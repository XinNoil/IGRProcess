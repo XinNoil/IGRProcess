{
 "cells": [
  {
   "cell_type": "code",
   "execution_count": 1,
   "metadata": {},
   "outputs": [],
   "source": [
    "import os\n",
    "import numpy as np\n",
    "import pandas as pd\n",
    "\n",
    "from mtools import plot_fig, read_file\n",
    "import matplotlib.pyplot as plt\n",
    "import seaborn as sns\n",
    "\n",
    "os.chdir('/data/wjk/Workspace/Datasets/IGR')\n",
    "# IGR_DIRS = ['IGR', 'IGR230307', 'IGR230312']\n",
    "# IGR_DIR = 'IGR230307'"
   ]
  },
  {
   "cell_type": "code",
   "execution_count": 3,
   "metadata": {},
   "outputs": [],
   "source": [
    "pos_df = pd.read_csv(f'Output/stat_pos_df.csv')\n"
   ]
  },
  {
   "cell_type": "code",
   "execution_count": 23,
   "metadata": {},
   "outputs": [
    {
     "name": "stdout",
     "output_type": "stream",
     "text": [
      "                             timestamp\n",
      "phone   Quality trip                  \n",
      "Mate30  1.0     12_30_12_40         77\n",
      "        2.0     01_12_12_22         22\n",
      "        4.0     01_12_12_11        476\n",
      "                01_12_12_22        404\n",
      "                01_12_12_31        476\n",
      "...                                ...\n",
      "Vivox60 5.0     03_07_15_14         12\n",
      "                03_07_15_24          9\n",
      "                03_07_15_35          5\n",
      "                03_07_16_04          8\n",
      "                03_07_16_19         29\n",
      "\n",
      "[146 rows x 1 columns]\n"
     ]
    }
   ],
   "source": [
    "quality_count = pos_df[['phone', 'Quality', 'timestamp', 'trip']].groupby(['phone', 'Quality', 'trip']).count()\n",
    "print(quality_count)"
   ]
  },
  {
   "cell_type": "code",
   "execution_count": 31,
   "metadata": {},
   "outputs": [
    {
     "name": "stdout",
     "output_type": "stream",
     "text": [
      "Quality      1.0  2.0  4.0  5.0\n",
      "trip                           \n",
      "01_12_12_11    0    0  476    0\n",
      "01_12_12_22    0   22  404   50\n",
      "01_12_12_31    0    0  476    0\n",
      "01_12_12_41    0    0  476    0\n",
      "01_12_12_52    0    0  476    0\n",
      "01_12_13_04    0    0  453   23\n",
      "03_07_14_49    0   21  398   87\n",
      "03_07_15_14    0    1  503   16\n",
      "03_07_15_24    0    4  495    9\n",
      "03_07_15_35    0    3  497    5\n",
      "03_07_16_04    0    0  496    8\n",
      "03_07_16_19    0    0  490   30\n",
      "03_12_15_38  423    0   75    7\n",
      "03_12_16_05    0    0  490    0\n",
      "03_12_16_44    0    0  490    0\n",
      "03_12_16_54    0    0  491    0\n",
      "03_12_17_05    0    0  490    0\n",
      "03_12_17_18    0   46  379   66\n",
      "03_12_17_27    0   10  473    7\n",
      "03_12_17_37    0    0  490    0\n",
      "12_30_12_31    0    0  476    0\n",
      "12_30_12_40   77    0  399    0\n",
      "12_30_12_50    0    0  476    0\n",
      "12_30_12_59    0    0  476    0\n",
      "12_31_11_54    0    0  475    0\n",
      "12_31_12_03    0    0  476    0\n",
      "12_31_12_12    0    0  476    0\n",
      "12_31_12_21    0    0  476    0\n",
      "12_31_12_30    0    0  476    0\n",
      "12_31_12_38    0    0  476    0\n"
     ]
    }
   ],
   "source": [
    "quality_count_table = pd.pivot_table(quality_count, 'timestamp', index=['trip'], columns=['Quality'], aggfunc=np.max)\n",
    "quality_count_table.fillna(0, inplace=True)\n",
    "quality_count_table = quality_count_table.astype('int16')\n",
    "print(quality_count_table)\n",
    "quality_count_table.to_csv('Output/quality_count_table.csv', header=True)"
   ]
  }
 ],
 "metadata": {
  "kernelspec": {
   "display_name": "cjy",
   "language": "python",
   "name": "python3"
  },
  "language_info": {
   "codemirror_mode": {
    "name": "ipython",
    "version": 3
   },
   "file_extension": ".py",
   "mimetype": "text/x-python",
   "name": "python",
   "nbconvert_exporter": "python",
   "pygments_lexer": "ipython3",
   "version": "3.8.8"
  },
  "orig_nbformat": 4
 },
 "nbformat": 4,
 "nbformat_minor": 2
}
