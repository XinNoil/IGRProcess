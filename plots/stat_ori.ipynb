{
 "cells": [
  {
   "cell_type": "code",
   "execution_count": 3,
   "metadata": {},
   "outputs": [],
   "source": [
    "import os, sys\n",
    "import os.path as osp\n",
    "os.chdir('/data/wjk/Workspace/Datasets/IGR')\n",
    "sys.path.append('tools')\n",
    "from mtools import csvread, csvwrite\n",
    "import numpy as np\n",
    "import pandas as pd\n",
    "from tools import load_paths\n",
    "\n",
    "IGR_DIRS = ['IGR_cjy', 'IGR230503'] # , 'IGR230503', 'IGR230510'\n",
    "save_name = 'IGR_cjy_IGR230503'\n",
    "columns = ['ori_diff', 'mag_diff', 'ori_err', 'mag_err', 'ori_std', 'mag_std']\n",
    "\n",
    "# IGR_DIRS = ['IGR230510'] # , 'IGR230503', 'IGR230510'\n",
    "# save_name = 'IGR230510'\n",
    "# columns = ['game_diff', 'ori_diff', 'rot_diff', 'mag_diff', 'game_err', 'ori_err', 'rot_err', 'mag_err', 'game_std', 'ori_std', 'rot_std', 'mag_std']\n",
    "\n",
    "data = []\n",
    "devices = []\n",
    "traces = []\n",
    "for IGR_DIR in IGR_DIRS:\n",
    "    infos = load_paths(f'IGRData/{IGR_DIR}/info_list.txt')\n",
    "    for info in infos:\n",
    "        _data_dir, _device, trace, gnss_file, rnx_file, sensor_file, rtkfile, _area, _shape, _type, _people = info\n",
    "        csv_name = osp.join('IGRData', IGR_DIR, 'processed', _device, trace, 'supplementary', 'yaw_diff_stat.csv')\n",
    "        _data = csvread(csv_name)\n",
    "        data.append(_data.flatten())\n",
    "        devices.append(_device)\n",
    "        traces.append(trace)\n",
    "data = np.row_stack(data)\n",
    "df = pd.DataFrame(data, columns=columns)\n",
    "df['device'] = pd.Series(devices)\n",
    "df['trace'] = pd.Series(traces)\n",
    "df.to_csv(f'Output/ori_stat/{save_name}.csv')"
   ]
  }
 ],
 "metadata": {
  "kernelspec": {
   "display_name": "cjy",
   "language": "python",
   "name": "python3"
  },
  "language_info": {
   "codemirror_mode": {
    "name": "ipython",
    "version": 3
   },
   "file_extension": ".py",
   "mimetype": "text/x-python",
   "name": "python",
   "nbconvert_exporter": "python",
   "pygments_lexer": "ipython3",
   "version": "3.8.8"
  },
  "orig_nbformat": 4
 },
 "nbformat": 4,
 "nbformat_minor": 2
}
